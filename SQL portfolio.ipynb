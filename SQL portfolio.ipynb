{
 "cells": [
  {
   "cell_type": "code",
   "execution_count": null,
   "id": "f6d8ff58",
   "metadata": {},
   "outputs": [],
   "source": [
    "!pip install ipython-sql\n",
    "import pandas as pd\n",
    "%load_ext sql\n",
    "%sql sqlite://"
   ]
  },
  {
   "cell_type": "code",
   "execution_count": null,
   "id": "de30f3e9",
   "metadata": {},
   "outputs": [],
   "source": [
    "# This dataset contains infromation of average yearly temperature of states in USA from 1895-2019. The task is to use various different window functions to do some analysis on the data "
   ]
  },
  {
   "cell_type": "code",
   "execution_count": null,
   "id": "88ac61a5",
   "metadata": {},
   "outputs": [],
   "source": [
    "#Inspect the table, what columns are within it\n",
    "%%sql\n",
    "SELECT * \n",
    "FROM state_climate\n",
    "LIMIT 10;"
   ]
  },
  {
   "cell_type": "code",
   "execution_count": null,
   "id": "5f69633a",
   "metadata": {},
   "outputs": [],
   "source": [
    "# Question 1: How does the average temperature change over time in each state?\n",
    "%%sql\n",
    "SELECT state, year,tempc, AVG(tempc) OVER(PARTITION BY state ORDER BY year ) \"running_avg_temp\"\n",
    "FROM state_climate\n",
    "LIMIT 10;"
   ]
  },
  {
   "cell_type": "code",
   "execution_count": null,
   "id": "b0ac5d1f",
   "metadata": {},
   "outputs": [],
   "source": [
    "#Question 2: What is the lowest temperature by state in the dataset\n",
    "%%sql\n",
    "SELECT state, year,tempc, FIRST_VALUE(tempc) OVER(PARTITION BY state ORDER BY tempc  ) \"lowest_temp\"\n",
    "FROM state_climate\n",
    "LIMIT 10;"
   ]
  },
  {
   "cell_type": "code",
   "execution_count": null,
   "id": "fc32655b",
   "metadata": {},
   "outputs": [],
   "source": [
    "#Question 3:What is the highest temperature by state\n",
    "%%sql\n",
    "SELECT state, year,tempc, FIRST_VALUE(tempc) OVER(PARTITION BY state ORDER BY tempc DESC  ) \"highest_temp\"\n",
    "FROM state_climate\n",
    "LIMIT 10;"
   ]
  },
  {
   "cell_type": "code",
   "execution_count": null,
   "id": "e8ab2712",
   "metadata": {},
   "outputs": [],
   "source": [
    "#Question 4:How has temperature changed each year in each state? Which states and years saw the largest changes in temperature?Is there a particular part of the United States that saw the largest yearly changes in temperature?\n",
    "%%sql\n",
    "SELECT state, year,tempc, tempc-LAG(tempc,1,tempc) OVER (PARTITION BY state ORDER BY year) AS \"change_in_temp\"\n",
    "FROM state_climate\n",
    "ORDER BY change_in_temp DESC\n",
    "LIMIT 10;"
   ]
  },
  {
   "cell_type": "code",
   "execution_count": null,
   "id": "1247d0fc",
   "metadata": {},
   "outputs": [],
   "source": [
    "#Question 5: Rank the coldest tempaeratures on record\n",
    "%%sql\n",
    "SELECT RANK() OVER(ORDER BY tempc) AS \"coldest_rank\",year,state,tempc\n",
    "FROM state_climate\n",
    "LIMIT 10;"
   ]
  },
  {
   "cell_type": "code",
   "execution_count": null,
   "id": "644bfd23",
   "metadata": {},
   "outputs": [],
   "source": [
    "#Question 6: Rank the warmest temperatures on record?\n",
    "%%sql\n",
    "SELECT RANK() OVER(ORDER BY tempc DESC) AS \"warmest_rank\",year,state,tempc\n",
    "FROM state_climate\n",
    "LIMIT 10;"
   ]
  },
  {
   "cell_type": "code",
   "execution_count": null,
   "id": "6c32ee1b",
   "metadata": {},
   "outputs": [],
   "source": [
    "#Question 7: What are the quartiles of the average yearley temperatures by state?\n",
    "%%sql\n",
    "SELECT NTILE(4) OVER (PARTITION BY state ORDER BY tempc) AS \"Quartiles\",\n",
    "year,state,tempc\n",
    "FROM state_climate\n",
    "LIMIT 10;"
   ]
  },
  {
   "cell_type": "code",
   "execution_count": null,
   "id": "3fe1b58b",
   "metadata": {},
   "outputs": [],
   "source": [
    "#Question 8: In quintiles what are the average yearly temperatures\n",
    "%%sql\n",
    "SELECT NTILE(5) OVER (ORDER BY tempc) AS \"Quintiles\",\n",
    "year,state,tempc\n",
    "FROM state_climate\n",
    "LIMIT 10;"
   ]
  }
 ],
 "metadata": {
  "kernelspec": {
   "display_name": "Python 3 (ipykernel)",
   "language": "python",
   "name": "python3"
  },
  "language_info": {
   "codemirror_mode": {
    "name": "ipython",
    "version": 3
   },
   "file_extension": ".py",
   "mimetype": "text/x-python",
   "name": "python",
   "nbconvert_exporter": "python",
   "pygments_lexer": "ipython3",
   "version": "3.9.7"
  }
 },
 "nbformat": 4,
 "nbformat_minor": 5
}
