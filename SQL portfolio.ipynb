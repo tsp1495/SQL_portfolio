{
 "cells": [
  {
   "cell_type": "code",
   "execution_count": 1,
   "id": "02160591",
   "metadata": {},
   "outputs": [
    {
     "name": "stdout",
     "output_type": "stream",
     "text": [
      "Requirement already satisfied: ipython-sql in c:\\programdata\\anaconda3\\lib\\site-packages (0.4.0)\n",
      "Requirement already satisfied: prettytable<1 in c:\\programdata\\anaconda3\\lib\\site-packages (from ipython-sql) (0.7.2)\n",
      "Requirement already satisfied: ipython-genutils>=0.1.0 in c:\\programdata\\anaconda3\\lib\\site-packages (from ipython-sql) (0.2.0)\n",
      "Requirement already satisfied: ipython>=1.0 in c:\\programdata\\anaconda3\\lib\\site-packages (from ipython-sql) (7.29.0)\n",
      "Requirement already satisfied: sqlparse in c:\\programdata\\anaconda3\\lib\\site-packages (from ipython-sql) (0.4.2)\n",
      "Requirement already satisfied: six in c:\\programdata\\anaconda3\\lib\\site-packages (from ipython-sql) (1.16.0)\n",
      "Requirement already satisfied: sqlalchemy>=0.6.7 in c:\\programdata\\anaconda3\\lib\\site-packages (from ipython-sql) (1.4.22)\n",
      "Requirement already satisfied: prompt-toolkit!=3.0.0,!=3.0.1,<3.1.0,>=2.0.0 in c:\\programdata\\anaconda3\\lib\\site-packages (from ipython>=1.0->ipython-sql) (3.0.20)\n",
      "Requirement already satisfied: pygments in c:\\programdata\\anaconda3\\lib\\site-packages (from ipython>=1.0->ipython-sql) (2.10.0)\n",
      "Requirement already satisfied: setuptools>=18.5 in c:\\programdata\\anaconda3\\lib\\site-packages (from ipython>=1.0->ipython-sql) (58.0.4)\n",
      "Requirement already satisfied: colorama in c:\\programdata\\anaconda3\\lib\\site-packages (from ipython>=1.0->ipython-sql) (0.4.4)\n",
      "Requirement already satisfied: matplotlib-inline in c:\\programdata\\anaconda3\\lib\\site-packages (from ipython>=1.0->ipython-sql) (0.1.2)\n",
      "Requirement already satisfied: jedi>=0.16 in c:\\programdata\\anaconda3\\lib\\site-packages (from ipython>=1.0->ipython-sql) (0.18.0)\n",
      "Requirement already satisfied: backcall in c:\\programdata\\anaconda3\\lib\\site-packages (from ipython>=1.0->ipython-sql) (0.2.0)\n",
      "Requirement already satisfied: pickleshare in c:\\programdata\\anaconda3\\lib\\site-packages (from ipython>=1.0->ipython-sql) (0.7.5)\n",
      "Requirement already satisfied: decorator in c:\\programdata\\anaconda3\\lib\\site-packages (from ipython>=1.0->ipython-sql) (5.1.0)\n",
      "Requirement already satisfied: traitlets>=4.2 in c:\\programdata\\anaconda3\\lib\\site-packages (from ipython>=1.0->ipython-sql) (5.1.0)\n",
      "Requirement already satisfied: parso<0.9.0,>=0.8.0 in c:\\programdata\\anaconda3\\lib\\site-packages (from jedi>=0.16->ipython>=1.0->ipython-sql) (0.8.2)\n",
      "Requirement already satisfied: wcwidth in c:\\programdata\\anaconda3\\lib\\site-packages (from prompt-toolkit!=3.0.0,!=3.0.1,<3.1.0,>=2.0.0->ipython>=1.0->ipython-sql) (0.2.5)\n",
      "Requirement already satisfied: greenlet!=0.4.17 in c:\\programdata\\anaconda3\\lib\\site-packages (from sqlalchemy>=0.6.7->ipython-sql) (1.1.1)\n"
     ]
    }
   ],
   "source": [
    "!pip install ipython-sql\n",
    "import pandas as pd\n",
    "%load_ext sql\n",
    "%sql sqlite://"
   ]
  },
  {
   "cell_type": "code",
   "execution_count": 5,
   "id": "0a790740",
   "metadata": {},
   "outputs": [
    {
     "name": "stdout",
     "output_type": "stream",
     "text": [
      " * sqlite://\n",
      "(sqlite3.OperationalError) no such table: state_climate\n",
      "[SQL: SELECT * FROM state_climate]\n",
      "(Background on this error at: https://sqlalche.me/e/14/e3q8)\n"
     ]
    }
   ],
   "source": [
    "#Inspect the table, what columns are within it\n",
    "%%sql\n",
    "SELECT * \n",
    "FROM state_climate\n",
    "LIMIT 10;"
   ]
  },
  {
   "cell_type": "code",
   "execution_count": 6,
   "id": "ef4f4527",
   "metadata": {},
   "outputs": [],
   "source": [
    "# Question 1: How does the average temperature change over time in each state?\n",
    "%%sql\n",
    "SELECT state, year,tempc, AVG(tempc) OVER(PARTITION BY state ORDER BY year ) \"running_avg_temp\"\n",
    "FROM state_climate\n",
    "LIMIT 10;"
   ]
  },
  {
   "cell_type": "code",
   "execution_count": null,
   "id": "67d67443",
   "metadata": {},
   "outputs": [],
   "source": [
    "#Question 2: What is the lowest temperature by state in the dataset\n",
    "%%sql\n",
    "SELECT state, year,tempc, FIRST_VALUE(tempc) OVER(PARTITION BY state ORDER BY tempc  ) \"lowest_temp\"\n",
    "FROM state_climate\n",
    "LIMIT 10;"
   ]
  },
  {
   "cell_type": "code",
   "execution_count": null,
   "id": "edfa36b0",
   "metadata": {},
   "outputs": [],
   "source": [
    "#Question 3:What is the highest temperature by state\n",
    "%%sql\n",
    "SELECT state, year,tempc, FIRST_VALUE(tempc) OVER(PARTITION BY state ORDER BY tempc DESC  ) \"highest_temp\"\n",
    "FROM state_climate\n",
    "LIMIT 10;"
   ]
  },
  {
   "cell_type": "code",
   "execution_count": null,
   "id": "aac6dbc0",
   "metadata": {},
   "outputs": [],
   "source": [
    "#Question 4:How has temperature changed each year in each state? Which states and years saw the largest changes in temperature?Is there a particular part of the United States that saw the largest yearly changes in temperature?\n",
    "%%sql\n",
    "SELECT state, year,tempc, tempc-LAG(tempc,1,tempc) OVER (PARTITION BY state ORDER BY year) AS \"change_in_temp\"\n",
    "FROM state_climate\n",
    "ORDER BY change_in_temp DESC\n",
    "LIMIT 10;"
   ]
  },
  {
   "cell_type": "code",
   "execution_count": null,
   "id": "cff36df2",
   "metadata": {},
   "outputs": [],
   "source": [
    "#Question 5: Rank the coldest tempaeratures on record\n",
    "%%sql\n",
    "SELECT RANK() OVER(ORDER BY tempc) AS \"coldest_rank\",year,state,tempc\n",
    "FROM state_climate\n",
    "LIMIT 10;"
   ]
  },
  {
   "cell_type": "code",
   "execution_count": null,
   "id": "15f55f16",
   "metadata": {},
   "outputs": [],
   "source": [
    "#Question 6: Rank the warmest temperatures on record?\n",
    "%%sql\n",
    "SELECT RANK() OVER(ORDER BY tempc DESC) AS \"warmest_rank\",year,state,tempc\n",
    "FROM state_climate\n",
    "LIMIT 10;"
   ]
  },
  {
   "cell_type": "code",
   "execution_count": null,
   "id": "2c052c93",
   "metadata": {},
   "outputs": [],
   "source": [
    "#Question 7: What are the quartiles of the average yearley temperatures by state?\n",
    "%%sql\n",
    "SELECT NTILE(4) OVER (PARTITION BY state ORDER BY tempc) AS \"Quartiles\",\n",
    "year,state,tempc\n",
    "FROM state_climate\n",
    "LIMIT 10;"
   ]
  },
  {
   "cell_type": "code",
   "execution_count": null,
   "id": "b92e98c9",
   "metadata": {},
   "outputs": [],
   "source": [
    "#Question 8: In quintiles what are the average yearly temperatures\n",
    "%%sql\n",
    "SELECT NTILE(5) OVER (ORDER BY tempc) AS \"Quintiles\",\n",
    "year,state,tempc\n",
    "FROM state_climate\n",
    "LIMIT 10;"
   ]
  }
 ],
 "metadata": {
  "kernelspec": {
   "display_name": "Python 3 (ipykernel)",
   "language": "python",
   "name": "python3"
  },
  "language_info": {
   "codemirror_mode": {
    "name": "ipython",
    "version": 3
   },
   "file_extension": ".py",
   "mimetype": "text/x-python",
   "name": "python",
   "nbconvert_exporter": "python",
   "pygments_lexer": "ipython3",
   "version": "3.9.7"
  }
 },
 "nbformat": 4,
 "nbformat_minor": 5
}
